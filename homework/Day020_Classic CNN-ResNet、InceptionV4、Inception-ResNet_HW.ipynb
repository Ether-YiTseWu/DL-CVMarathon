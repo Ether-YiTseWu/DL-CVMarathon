{
 "cells": [
  {
   "cell_type": "markdown",
   "metadata": {},
   "source": [
    "## 『本次練習內容』\n",
    "#### 學習如何搭建 Residual Block\n",
    "####  學習如何搭建Inception-ResNet中的 Inception Block"
   ]
  },
  {
   "cell_type": "markdown",
   "metadata": {},
   "source": [
    "## 『本次練習目的』\n",
    "  #### 了解 Residual Block原理\n",
    "  #### 了解如何結合Inception 與 Residual概念"
   ]
  },
  {
   "cell_type": "markdown",
   "metadata": {},
   "source": [
    "---"
   ]
  },
  {
   "cell_type": "markdown",
   "metadata": {},
   "source": [
    "## Part1"
   ]
  },
  {
   "cell_type": "code",
   "execution_count": 1,
   "metadata": {
    "tags": []
   },
   "outputs": [
    {
     "output_type": "stream",
     "name": "stderr",
     "text": "Using TensorFlow backend.\n"
    }
   ],
   "source": [
    "import numpy as np\n",
    "from keras.models import Model\n",
    "from keras.layers import Flatten\n",
    "from keras.layers import Dense\n",
    "from keras.layers import Input\n",
    "from keras.layers import Conv2D\n",
    "from keras.layers import MaxPooling2D\n",
    "from keras.layers import GlobalMaxPooling2D\n",
    "from keras.layers import GlobalAveragePooling2D\n",
    "from keras import backend as K\n",
    "from keras import layers\n",
    "from keras.layers import BatchNormalization\n",
    "from keras.layers import Activation\n",
    "from keras.layers import Concatenate\n",
    "from keras.layers import Lambda"
   ]
  },
  {
   "cell_type": "markdown",
   "metadata": {},
   "source": [
    "![Incpeiton](ResNet_Structure.png)"
   ]
  },
  {
   "cell_type": "markdown",
   "metadata": {},
   "source": [
    "## ResNetV1"
   ]
  },
  {
   "cell_type": "code",
   "execution_count": 2,
   "metadata": {},
   "outputs": [],
   "source": [
    "def Residual_block(input_tensor, kernel_size, filters, stage, block):\n",
    "    filters1, filters2, filters3 = filters\n",
    "    conv_name_base = 'res' + str(stage) + block + '_branch'\n",
    "    bn_name_base = 'bn' + str(stage) + block + '_branch'\n",
    "\n",
    "    x = Conv2D(filters1, (1, 1), name=conv_name_base + '2a')(input_tensor)\n",
    "    x = BatchNormalization(axis=3, name=bn_name_base + '2a')(x)\n",
    "    x = Activation('relu')(x)\n",
    "\n",
    "    x = Conv2D(filters2, kernel_size,\n",
    "               padding='same', name=conv_name_base + '2b')(x)\n",
    "    x = BatchNormalization(axis=3, name=bn_name_base + '2b')(x)\n",
    "\n",
    "    x = layers.add([x, input_tensor])\n",
    "    x = Activation('relu')(x)\n",
    "    return x"
   ]
  },
  {
   "cell_type": "markdown",
   "metadata": {},
   "source": [
    "## 參考ResNetV1 搭建 ResNetV2版本的Residual Block"
   ]
  },
  {
   "cell_type": "code",
   "execution_count": 5,
   "metadata": {},
   "outputs": [],
   "source": [
    "def Residual_block_v2(input_tensor, kernel_size, filters, stage, block):\n",
    "    filters1, filters2, filters3 = filters\n",
    "    conv_name_base = 'res' + str(stage) + block + '_branch'\n",
    "    bn_name_base = 'bn' + str(stage) + block + '_branch'\n",
    "\n",
    "    '''搭建V2版本Block'''\n",
    "    x = BatchNormalization(axis=3, name=bn_name_base + '2a')(x)\n",
    "    x = Activation('relu')(x)\n",
    "    x = Conv2D(filters1, (1, 1), name=conv_name_base + '2a')(input_tensor)\n",
    "\n",
    "    x = BatchNormalization(axis=3, name=bn_name_base + '2a')(x)\n",
    "    x = Activation('relu')(x)\n",
    "    x = Conv2D(filters2, (1, 1), name=conv_name_base + '2a')(input_tensor)\n",
    "\n",
    "    x = layers.add([x, input_tensor])\n",
    "    return x"
   ]
  },
  {
   "cell_type": "markdown",
   "metadata": {},
   "source": [
    "## 試試看自己設計一個先壓縮再回放的V2 Block"
   ]
  },
  {
   "cell_type": "code",
   "execution_count": 9,
   "metadata": {},
   "outputs": [],
   "source": [
    "def Residual_block_v2(input_tensor, kernel_size, stage, block,reduce=96,ouput_size=128):\n",
    "    filters1, filters2, filters3 = filters\n",
    "    conv_name_base = 'res' + str(stage) + block + '_branch'\n",
    "    bn_name_base = 'bn' + str(stage) + block + '_branch'\n",
    "\n",
    "    '''搭建V2版本Block'''\n",
    "    x = Conv2D(filters1, (1, 1), name=conv_name_base + '2a')(input_tensor)\n",
    "    x = Activation('relu')(x)\n",
    "    x = BatchNormalization(axis=3, name=bn_name_base + '2a')(x)\n",
    "\n",
    "    x = Conv2D(filters2, (1, 1), name=conv_name_base + '2a')(input_tensor)\n",
    "\n",
    "    x = layers.add([x, input_tensor])\n",
    "    return x\n"
   ]
  },
  {
   "cell_type": "markdown",
   "metadata": {},
   "source": [
    "---"
   ]
  },
  {
   "cell_type": "markdown",
   "metadata": {},
   "source": [
    "## Part2"
   ]
  },
  {
   "cell_type": "markdown",
   "metadata": {
    "colab_type": "text",
    "id": "tfa8Vx5iJbZU"
   },
   "source": [
    "## Incpetion Block-A"
   ]
  },
  {
   "cell_type": "markdown",
   "metadata": {
    "colab_type": "text",
    "id": "xbuyi79mJbZX"
   },
   "source": [
    "![Incpeiton](Inception-ResNet-A.png)"
   ]
  },
  {
   "cell_type": "markdown",
   "metadata": {
    "colab_type": "text",
    "id": "3GI24k24JbZa"
   },
   "source": [
    "## Incpetion Block-B"
   ]
  },
  {
   "cell_type": "markdown",
   "metadata": {
    "colab_type": "text",
    "id": "Ge28e58BJbZd"
   },
   "source": [
    "![Incpeiton](Inception-ResNet-B.png)"
   ]
  },
  {
   "cell_type": "markdown",
   "metadata": {
    "colab_type": "text",
    "id": "aMz1WNBsJbZg"
   },
   "source": [
    "## Incpetion Block-C"
   ]
  },
  {
   "cell_type": "markdown",
   "metadata": {
    "colab_type": "text",
    "id": "A4lY1HV6JbZj"
   },
   "source": [
    "![Incpeiton](Inception-ResNet-C.png)"
   ]
  },
  {
   "cell_type": "code",
   "execution_count": 7,
   "metadata": {
    "colab": {},
    "colab_type": "code",
    "id": "t9IKAa_4JbZ1"
   },
   "outputs": [],
   "source": [
    "def Conv2d_bn(x,filters,kernel_size,padding='same',strides=(1, 1),normalizer=True,activation='relu',name=None):\n",
    "    if name is not None:\n",
    "        conv_name = name + '_conv'\n",
    "        bn_name = name + '_bn'\n",
    "        act_name = name + '_act'\n",
    "    else:\n",
    "        conv_name = None\n",
    "        bn_name = None\n",
    "        act_name = None\n",
    "    if K.image_data_format() == 'channels_first':\n",
    "        bn_axis = 1\n",
    "    else:\n",
    "        bn_axis = 3\n",
    "    x = Conv2D(\n",
    "            filters, kernel_size,\n",
    "            strides=strides, padding=padding,\n",
    "            use_bias=False, name=conv_name)(x)\n",
    "    if normalizer:\n",
    "        x = BatchNormalization(axis=bn_axis, scale=False, name=bn_name)(x)\n",
    "    if activation:\n",
    "        x = Activation(activation, name=act_name)(x)\n",
    "    return x"
   ]
  },
  {
   "cell_type": "code",
   "execution_count": 8,
   "metadata": {
    "colab": {},
    "colab_type": "code",
    "id": "d7iVPJQkJbZ-"
   },
   "outputs": [],
   "source": [
    "def Residual_block(input_tensor, kernel_size, filters, stage, block):\n",
    "    filters1, filters2, filters3 = filters\n",
    "    conv_name_base = 'res' + str(stage) + block + '_branch'\n",
    "    bn_name_base = 'bn' + str(stage) + block + '_branch'\n",
    "\n",
    "    x = Conv2D(filters1, (1, 1), name=conv_name_base + '2a')(input_tensor)\n",
    "    x = BatchNormalization(axis=3, name=bn_name_base + '2a')(x)\n",
    "    x = Activation('relu')(x)\n",
    "\n",
    "    x = Conv2D(filters2, kernel_size,\n",
    "               padding='same', name=conv_name_base + '2b')(x)\n",
    "    x = BatchNormalization(axis=3, name=bn_name_base + '2b')(x)\n",
    "    x = Activation('relu')(x)\n",
    "\n",
    "    x = Conv2D(filters3, (1, 1), name=conv_name_base + '2c')(x)\n",
    "    x = BatchNormalization(axis=3, name=bn_name_base + '2c')(x)\n",
    "\n",
    "    x = layers.add([x, input_tensor])\n",
    "    x = Activation('relu')(x)\n",
    "    return x"
   ]
  },
  {
   "cell_type": "markdown",
   "metadata": {
    "colab_type": "text",
    "id": "M0BEkO7VJbaI"
   },
   "source": [
    "## 參考上方Residual_block搭建 Inception-ResNet中的Inception Block"
   ]
  },
  {
   "cell_type": "code",
   "execution_count": 13,
   "metadata": {
    "colab": {},
    "colab_type": "code",
    "id": "XJjxq9lWJbaN"
   },
   "outputs": [],
   "source": [
    "def inception_resnet_block(x, scale, block_type, activation='relu'):\n",
    "    '''scale: scaling factor to scale the residuals (i.e., the output of\n",
    "            passing `x` through an inception module) before adding them\n",
    "            to the shortcut branch. Let `r` be the output from the residual branch,\n",
    "            the output of this block will be `x + scale * r`.(簡單來說就是控制Residual branch的比例)'''\n",
    "    if block_type == 'Incpetion_Block-A':\n",
    "        branch_0 = Conv2d_bn(x, 32, 1)\n",
    "        branch_1 = Conv2d_bn(x, 32, 1)\n",
    "        branch_1 = Conv2d_bn(branch_1, 32, 3)\n",
    "        branch_2 = Conv2d_bn(x, 32, 1)\n",
    "        branch_2 = Conv2d_bn(branch_2, 48, 4)\n",
    "        branch_2 = Conv2d_bn(branch_2, 64, 3)\n",
    "        branches = [branch_0, branch_1, branch_2]\n",
    "    elif block_type == 'Incpetion_Block-B':\n",
    "        branch_0 = Conv2d_bn(x, 192, 1)\n",
    "        branch_1 = Conv2d_bn(x, 128, 1)\n",
    "        branch_1 = Conv2d_bn(branch_1, 160, [1,7])\n",
    "        branch_1 = Conv2d_bn(branch_1, 192, [7,1])\n",
    "        branches = [branch_0, branch_1]\n",
    "    elif block_type == 'Incpetion_Block-C':\n",
    "        branch_0 = Conv2d_bn(x, 192, 1)\n",
    "        branch_1 = Conv2d_bn(x, 192, 1)\n",
    "        branch_1 = Conv2d_bn(branch_1, 192, [1, 3])\n",
    "        branch_1 = Conv2d_bn(branch_1, 192, [3, 1])\n",
    "        branches = [branch_0, branch_1]\n",
    "    else:\n",
    "        raise ValueError('Unknown Inception-ResNet block type. '\n",
    "                         'Expects \"block35\", \"block17\" or \"block8\", '\n",
    "                         'but got: ' + str(block_type))\n",
    "    mixed = Concatenate(axis=3)(branches)\n",
    "    \n",
    "    '''確保輸入跟輸出深度相同'''\n",
    "    up = Conv2d_bn(mixed,K.int_shape(x)[3],1,activation=None)\n",
    "    \n",
    "    '''導入殘差結構，並給予權重'''\n",
    "    \n",
    "    x = Lambda(lambda inputs, scale: inputs[0] + inputs[1] * scale, ##提示inputs[0]、inputs[1]\n",
    "               output_shape=K.int_shape(x)[1:],\n",
    "               arguments={'scale': scale},)([x,up])\n",
    "    \n",
    "    if activation is not None:\n",
    "        x = Activation(activation)(x)\n",
    "    return x"
   ]
  },
  {
   "cell_type": "code",
   "execution_count": 14,
   "metadata": {
    "colab": {},
    "colab_type": "code",
    "id": "wv-ni8GpJbaU",
    "outputId": "dcf7198f-59a6-4eac-d912-565146b1ce16",
    "tags": []
   },
   "outputs": [
    {
     "output_type": "stream",
     "name": "stdout",
     "text": "Tensor(\"activation_13/Relu:0\", shape=(None, 224, 224, 32), dtype=float32)\n"
    }
   ],
   "source": [
    "img_input = Input(shape=(224,224,32))\n",
    "x=inception_resnet_block(img_input, 0.1, 'Incpetion_Block-A', activation='relu')\n",
    "print(x)"
   ]
  },
  {
   "cell_type": "markdown",
   "metadata": {
    "colab_type": "text",
    "id": "HOBuOAjOJbab"
   },
   "source": [
    "## 測試"
   ]
  },
  {
   "cell_type": "code",
   "execution_count": 15,
   "metadata": {
    "colab": {},
    "colab_type": "code",
    "id": "T-igNjppJbad",
    "outputId": "0455b644-5456-4145-d719-3878348aa4cb",
    "tags": []
   },
   "outputs": [
    {
     "output_type": "stream",
     "name": "stdout",
     "text": "Tensor(\"activation_20/Relu:0\", shape=(None, 224, 224, 32), dtype=float32)\n"
    }
   ],
   "source": [
    "img_input = Input(shape=(224,224,32))\n",
    "x=inception_resnet_block(img_input, 0.1, 'Incpetion_Block-A', activation='relu')\n",
    "print(x)"
   ]
  },
  {
   "cell_type": "code",
   "execution_count": 16,
   "metadata": {
    "colab": {},
    "colab_type": "code",
    "id": "V7otKKZWJbah",
    "outputId": "bca7b98f-b8ab-4318-d884-77c8ee7c7fa8",
    "tags": []
   },
   "outputs": [
    {
     "output_type": "stream",
     "name": "stdout",
     "text": "Tensor(\"activation_25/Relu:0\", shape=(None, 224, 224, 32), dtype=float32)\n"
    }
   ],
   "source": [
    "img_input = Input(shape=(224,224,32))\n",
    "x=inception_resnet_block(img_input, 0.1, 'Incpetion_Block-B', activation='relu')\n",
    "print(x)"
   ]
  },
  {
   "cell_type": "code",
   "execution_count": 17,
   "metadata": {
    "colab": {},
    "colab_type": "code",
    "id": "RjxCkTlHJbal",
    "outputId": "462b602c-2a47-4790-eff4-13c875aba275",
    "tags": []
   },
   "outputs": [
    {
     "output_type": "stream",
     "name": "stdout",
     "text": "Tensor(\"activation_30/Relu:0\", shape=(None, 224, 224, 32), dtype=float32)\n"
    }
   ],
   "source": [
    "img_input = Input(shape=(224,224,32))\n",
    "x=inception_resnet_block(img_input, 0.1, 'Incpetion_Block-C', activation='relu')\n",
    "print(x)"
   ]
  },
  {
   "cell_type": "markdown",
   "metadata": {
    "colab_type": "text",
    "id": "UYD4kS0BJbao"
   },
   "source": [
    "## 嘗試導入Inception Block到 Vgg_Inception中"
   ]
  },
  {
   "cell_type": "code",
   "execution_count": 22,
   "metadata": {},
   "outputs": [],
   "source": [
    "def InceptionV1_block(x, specs,channel_axis, name):\n",
    "    (br0, br1, br2, br3) = specs   # ((64,), (96,128), (16,32), (32,))\n",
    "    branch_0 = Conv2d_bn(x, br0[0], (1, 1), name=name+\"_Branch_0\")\n",
    "\n",
    "    branch_1 = Conv2d_bn(x, br1[0], (1, 1), name=name+\"_Branch_1\")\n",
    "    branch_1 = Conv2d_bn(branch_1, br1[1], (3, 3), name=name+\"_Branch_1_1\")\n",
    "\n",
    "    branch_2 = Conv2d_bn(x, br2[0], (1, 1), name=name+\"_Branch_2\")\n",
    "    branch_2 = Conv2d_bn(branch_2, br2[1], (5, 5), name=name+\"_Branch_2_1\")\n",
    "\n",
    "    branch_3 = MaxPooling2D(pool_size = (3, 3), strides = (1,1), padding = 'same', name=name+\"_Branch_3\")(x)\n",
    "    branch_3 = Conv2d_bn(branch_3, br3[0], (1, 1), name=name+\"_Branch_3_1\")\n",
    "\n",
    "    x = layers.concatenate(\n",
    "        [branch_0, branch_1, branch_2, branch_3],\n",
    "        axis=channel_axis,\n",
    "        name=name+\"_Concatenated\")\n",
    "    return x"
   ]
  },
  {
   "cell_type": "code",
   "execution_count": 25,
   "metadata": {
    "colab": {},
    "colab_type": "code",
    "id": "FEe8WW2qJbap"
   },
   "outputs": [],
   "source": [
    "def VGG16_ResNet_Inception(include_top=True,input_tensor=None, input_shape=(224,224,1),\n",
    "          pooling='max',classes=1000):\n",
    " \n",
    "    img_input = Input(shape=input_shape)\n",
    "    \n",
    "    x = Conv2d_bn(img_input,64, (3, 3), activation='relu', padding='same', name='block1_conv1')\n",
    "    x = Conv2d_bn(x,64, (3, 3), activation='relu', padding='same', name='block1_conv2')\n",
    "    x = MaxPooling2D((2, 2), strides=(2, 2), name='block1_pool')(x)\n",
    "\n",
    "    # Block 2\n",
    "    x = Conv2d_bn(x,128, (3, 3), activation='relu', padding='same', name='block2_conv1')\n",
    "    x = Conv2d_bn(x,128, (3, 3), activation='relu', padding='same', name='block2_conv2')\n",
    "    x = MaxPooling2D((2, 2), strides=(2, 2), name='block2_pool')(x)\n",
    "\n",
    "    # Block 3\n",
    "    x = InceptionV1_block(x, ((64,), (96,128), (16,32), (32,)), 3, 'Block_1')\n",
    "    x = InceptionV1_block(x, ((64,), (96,128), (16,32), (32,)), 3, 'Block_2')\n",
    "    x = InceptionV1_block(x, ((64,), (96,128), (16,32), (32,)), 3, 'Block_3')\n",
    "    x = MaxPooling2D((2, 2), strides=(2, 2), name='block3_pool')(x)\n",
    "\n",
    "    # Block 4\n",
    "    x = Conv2d_bn(x,512, (3, 3), activation='relu', padding='same', name='block4_conv1')\n",
    "    x = Conv2d_bn(x,512, (3, 3), activation='relu', padding='same', name='block4_conv2')\n",
    "    x = Conv2d_bn(x,512, (3, 3), activation='relu', padding='same', name='block4_conv3')\n",
    "    x = MaxPooling2D((2, 2), strides=(2, 2), name='block4_pool')(x)\n",
    "\n",
    "    # Block 5 \n",
    "    #為什麼要加InceptionV3_block 原因?\n",
    "    #x =InceptionV3_block(x, ((128,), (192,256), (32,64), (64,)), 3, 'Block_4')\n",
    "    #x =InceptionV3_block(x, ((128,), (192,256), (32,64), (64,)), 3, 'Block_5')\n",
    "    #x =InceptionV3_block(x, ((128,), (192,256), (32,64), (64,)), 3, 'Block_6')\n",
    "    #x =MaxPooling2D((2, 2), strides=(2, 2), name='block5_pool')(x)\n",
    "\n",
    "    if include_top:\n",
    "        # Classification block\n",
    "        x = Flatten(name='flatten')(x)\n",
    "        x = Dense(4096, activation='relu', name='fc1')(x)\n",
    "        x = Dense(4096, activation='relu', name='fc2')(x)\n",
    "        x = Dense(classes, activation='softmax', name='predictions')(x)\n",
    "    else:\n",
    "       #可以提醒學員為什麼要加avg或是max\n",
    "        if pooling == 'avg':\n",
    "            x = GlobalAveragePooling2D()(x)\n",
    "        elif pooling == 'max':\n",
    "            x = GlobalMaxPooling2D()(x)\n",
    "\n",
    "    inputs = img_input\n",
    "    # Create model.\n",
    "    model = Model(inputs, x, name='vgg16')\n",
    "\n",
    "   \n",
    "    return model\n",
    "\n"
   ]
  },
  {
   "cell_type": "code",
   "execution_count": 26,
   "metadata": {
    "colab": {},
    "colab_type": "code",
    "id": "mQufg4jFJbas"
   },
   "outputs": [],
   "source": [
    "model = VGG16_ResNet_Inception(include_top=False)"
   ]
  },
  {
   "cell_type": "code",
   "execution_count": 27,
   "metadata": {
    "colab": {},
    "colab_type": "code",
    "id": "e3WfMLiYJbav",
    "tags": []
   },
   "outputs": [
    {
     "output_type": "stream",
     "name": "stdout",
     "text": "Model: \"vgg16\"\n__________________________________________________________________________________________________\nLayer (type)                    Output Shape         Param #     Connected to                     \n==================================================================================================\ninput_10 (InputLayer)           (None, 224, 224, 1)  0                                            \n__________________________________________________________________________________________________\nblock1_conv1_conv (Conv2D)      (None, 224, 224, 64) 576         input_10[0][0]                   \n__________________________________________________________________________________________________\nblock1_conv1_bn (BatchNormaliza (None, 224, 224, 64) 192         block1_conv1_conv[0][0]          \n__________________________________________________________________________________________________\nblock1_conv1_act (Activation)   (None, 224, 224, 64) 0           block1_conv1_bn[0][0]            \n__________________________________________________________________________________________________\nblock1_conv2_conv (Conv2D)      (None, 224, 224, 64) 36864       block1_conv1_act[0][0]           \n__________________________________________________________________________________________________\nblock1_conv2_bn (BatchNormaliza (None, 224, 224, 64) 192         block1_conv2_conv[0][0]          \n__________________________________________________________________________________________________\nblock1_conv2_act (Activation)   (None, 224, 224, 64) 0           block1_conv2_bn[0][0]            \n__________________________________________________________________________________________________\nblock1_pool (MaxPooling2D)      (None, 112, 112, 64) 0           block1_conv2_act[0][0]           \n__________________________________________________________________________________________________\nblock2_conv1_conv (Conv2D)      (None, 112, 112, 128 73728       block1_pool[0][0]                \n__________________________________________________________________________________________________\nblock2_conv1_bn (BatchNormaliza (None, 112, 112, 128 384         block2_conv1_conv[0][0]          \n__________________________________________________________________________________________________\nblock2_conv1_act (Activation)   (None, 112, 112, 128 0           block2_conv1_bn[0][0]            \n__________________________________________________________________________________________________\nblock2_conv2_conv (Conv2D)      (None, 112, 112, 128 147456      block2_conv1_act[0][0]           \n__________________________________________________________________________________________________\nblock2_conv2_bn (BatchNormaliza (None, 112, 112, 128 384         block2_conv2_conv[0][0]          \n__________________________________________________________________________________________________\nblock2_conv2_act (Activation)   (None, 112, 112, 128 0           block2_conv2_bn[0][0]            \n__________________________________________________________________________________________________\nblock2_pool (MaxPooling2D)      (None, 56, 56, 128)  0           block2_conv2_act[0][0]           \n__________________________________________________________________________________________________\nBlock_1_Branch_1_conv (Conv2D)  (None, 56, 56, 96)   12288       block2_pool[0][0]                \n__________________________________________________________________________________________________\nBlock_1_Branch_2_conv (Conv2D)  (None, 56, 56, 16)   2048        block2_pool[0][0]                \n__________________________________________________________________________________________________\nBlock_1_Branch_1_bn (BatchNorma (None, 56, 56, 96)   288         Block_1_Branch_1_conv[0][0]      \n__________________________________________________________________________________________________\nBlock_1_Branch_2_bn (BatchNorma (None, 56, 56, 16)   48          Block_1_Branch_2_conv[0][0]      \n__________________________________________________________________________________________________\nBlock_1_Branch_1_act (Activatio (None, 56, 56, 96)   0           Block_1_Branch_1_bn[0][0]        \n__________________________________________________________________________________________________\nBlock_1_Branch_2_act (Activatio (None, 56, 56, 16)   0           Block_1_Branch_2_bn[0][0]        \n__________________________________________________________________________________________________\nBlock_1_Branch_3 (MaxPooling2D) (None, 56, 56, 128)  0           block2_pool[0][0]                \n__________________________________________________________________________________________________\nBlock_1_Branch_0_conv (Conv2D)  (None, 56, 56, 64)   8192        block2_pool[0][0]                \n__________________________________________________________________________________________________\nBlock_1_Branch_1_1_conv (Conv2D (None, 56, 56, 128)  110592      Block_1_Branch_1_act[0][0]       \n__________________________________________________________________________________________________\nBlock_1_Branch_2_1_conv (Conv2D (None, 56, 56, 32)   12800       Block_1_Branch_2_act[0][0]       \n__________________________________________________________________________________________________\nBlock_1_Branch_3_1_conv (Conv2D (None, 56, 56, 32)   4096        Block_1_Branch_3[0][0]           \n__________________________________________________________________________________________________\nBlock_1_Branch_0_bn (BatchNorma (None, 56, 56, 64)   192         Block_1_Branch_0_conv[0][0]      \n__________________________________________________________________________________________________\nBlock_1_Branch_1_1_bn (BatchNor (None, 56, 56, 128)  384         Block_1_Branch_1_1_conv[0][0]    \n__________________________________________________________________________________________________\nBlock_1_Branch_2_1_bn (BatchNor (None, 56, 56, 32)   96          Block_1_Branch_2_1_conv[0][0]    \n__________________________________________________________________________________________________\nBlock_1_Branch_3_1_bn (BatchNor (None, 56, 56, 32)   96          Block_1_Branch_3_1_conv[0][0]    \n__________________________________________________________________________________________________\nBlock_1_Branch_0_act (Activatio (None, 56, 56, 64)   0           Block_1_Branch_0_bn[0][0]        \n__________________________________________________________________________________________________\nBlock_1_Branch_1_1_act (Activat (None, 56, 56, 128)  0           Block_1_Branch_1_1_bn[0][0]      \n__________________________________________________________________________________________________\nBlock_1_Branch_2_1_act (Activat (None, 56, 56, 32)   0           Block_1_Branch_2_1_bn[0][0]      \n__________________________________________________________________________________________________\nBlock_1_Branch_3_1_act (Activat (None, 56, 56, 32)   0           Block_1_Branch_3_1_bn[0][0]      \n__________________________________________________________________________________________________\nBlock_1_Concatenated (Concatena (None, 56, 56, 256)  0           Block_1_Branch_0_act[0][0]       \n                                                                 Block_1_Branch_1_1_act[0][0]     \n                                                                 Block_1_Branch_2_1_act[0][0]     \n                                                                 Block_1_Branch_3_1_act[0][0]     \n__________________________________________________________________________________________________\nBlock_2_Branch_1_conv (Conv2D)  (None, 56, 56, 96)   24576       Block_1_Concatenated[0][0]       \n__________________________________________________________________________________________________\nBlock_2_Branch_2_conv (Conv2D)  (None, 56, 56, 16)   4096        Block_1_Concatenated[0][0]       \n__________________________________________________________________________________________________\nBlock_2_Branch_1_bn (BatchNorma (None, 56, 56, 96)   288         Block_2_Branch_1_conv[0][0]      \n__________________________________________________________________________________________________\nBlock_2_Branch_2_bn (BatchNorma (None, 56, 56, 16)   48          Block_2_Branch_2_conv[0][0]      \n__________________________________________________________________________________________________\nBlock_2_Branch_1_act (Activatio (None, 56, 56, 96)   0           Block_2_Branch_1_bn[0][0]        \n__________________________________________________________________________________________________\nBlock_2_Branch_2_act (Activatio (None, 56, 56, 16)   0           Block_2_Branch_2_bn[0][0]        \n__________________________________________________________________________________________________\nBlock_2_Branch_3 (MaxPooling2D) (None, 56, 56, 256)  0           Block_1_Concatenated[0][0]       \n__________________________________________________________________________________________________\nBlock_2_Branch_0_conv (Conv2D)  (None, 56, 56, 64)   16384       Block_1_Concatenated[0][0]       \n__________________________________________________________________________________________________\nBlock_2_Branch_1_1_conv (Conv2D (None, 56, 56, 128)  110592      Block_2_Branch_1_act[0][0]       \n__________________________________________________________________________________________________\nBlock_2_Branch_2_1_conv (Conv2D (None, 56, 56, 32)   12800       Block_2_Branch_2_act[0][0]       \n__________________________________________________________________________________________________\nBlock_2_Branch_3_1_conv (Conv2D (None, 56, 56, 32)   8192        Block_2_Branch_3[0][0]           \n__________________________________________________________________________________________________\nBlock_2_Branch_0_bn (BatchNorma (None, 56, 56, 64)   192         Block_2_Branch_0_conv[0][0]      \n__________________________________________________________________________________________________\nBlock_2_Branch_1_1_bn (BatchNor (None, 56, 56, 128)  384         Block_2_Branch_1_1_conv[0][0]    \n__________________________________________________________________________________________________\nBlock_2_Branch_2_1_bn (BatchNor (None, 56, 56, 32)   96          Block_2_Branch_2_1_conv[0][0]    \n__________________________________________________________________________________________________\nBlock_2_Branch_3_1_bn (BatchNor (None, 56, 56, 32)   96          Block_2_Branch_3_1_conv[0][0]    \n__________________________________________________________________________________________________\nBlock_2_Branch_0_act (Activatio (None, 56, 56, 64)   0           Block_2_Branch_0_bn[0][0]        \n__________________________________________________________________________________________________\nBlock_2_Branch_1_1_act (Activat (None, 56, 56, 128)  0           Block_2_Branch_1_1_bn[0][0]      \n__________________________________________________________________________________________________\nBlock_2_Branch_2_1_act (Activat (None, 56, 56, 32)   0           Block_2_Branch_2_1_bn[0][0]      \n__________________________________________________________________________________________________\nBlock_2_Branch_3_1_act (Activat (None, 56, 56, 32)   0           Block_2_Branch_3_1_bn[0][0]      \n__________________________________________________________________________________________________\nBlock_2_Concatenated (Concatena (None, 56, 56, 256)  0           Block_2_Branch_0_act[0][0]       \n                                                                 Block_2_Branch_1_1_act[0][0]     \n                                                                 Block_2_Branch_2_1_act[0][0]     \n                                                                 Block_2_Branch_3_1_act[0][0]     \n__________________________________________________________________________________________________\nBlock_3_Branch_1_conv (Conv2D)  (None, 56, 56, 96)   24576       Block_2_Concatenated[0][0]       \n__________________________________________________________________________________________________\nBlock_3_Branch_2_conv (Conv2D)  (None, 56, 56, 16)   4096        Block_2_Concatenated[0][0]       \n__________________________________________________________________________________________________\nBlock_3_Branch_1_bn (BatchNorma (None, 56, 56, 96)   288         Block_3_Branch_1_conv[0][0]      \n__________________________________________________________________________________________________\nBlock_3_Branch_2_bn (BatchNorma (None, 56, 56, 16)   48          Block_3_Branch_2_conv[0][0]      \n__________________________________________________________________________________________________\nBlock_3_Branch_1_act (Activatio (None, 56, 56, 96)   0           Block_3_Branch_1_bn[0][0]        \n__________________________________________________________________________________________________\nBlock_3_Branch_2_act (Activatio (None, 56, 56, 16)   0           Block_3_Branch_2_bn[0][0]        \n__________________________________________________________________________________________________\nBlock_3_Branch_3 (MaxPooling2D) (None, 56, 56, 256)  0           Block_2_Concatenated[0][0]       \n__________________________________________________________________________________________________\nBlock_3_Branch_0_conv (Conv2D)  (None, 56, 56, 64)   16384       Block_2_Concatenated[0][0]       \n__________________________________________________________________________________________________\nBlock_3_Branch_1_1_conv (Conv2D (None, 56, 56, 128)  110592      Block_3_Branch_1_act[0][0]       \n__________________________________________________________________________________________________\nBlock_3_Branch_2_1_conv (Conv2D (None, 56, 56, 32)   12800       Block_3_Branch_2_act[0][0]       \n__________________________________________________________________________________________________\nBlock_3_Branch_3_1_conv (Conv2D (None, 56, 56, 32)   8192        Block_3_Branch_3[0][0]           \n__________________________________________________________________________________________________\nBlock_3_Branch_0_bn (BatchNorma (None, 56, 56, 64)   192         Block_3_Branch_0_conv[0][0]      \n__________________________________________________________________________________________________\nBlock_3_Branch_1_1_bn (BatchNor (None, 56, 56, 128)  384         Block_3_Branch_1_1_conv[0][0]    \n__________________________________________________________________________________________________\nBlock_3_Branch_2_1_bn (BatchNor (None, 56, 56, 32)   96          Block_3_Branch_2_1_conv[0][0]    \n__________________________________________________________________________________________________\nBlock_3_Branch_3_1_bn (BatchNor (None, 56, 56, 32)   96          Block_3_Branch_3_1_conv[0][0]    \n__________________________________________________________________________________________________\nBlock_3_Branch_0_act (Activatio (None, 56, 56, 64)   0           Block_3_Branch_0_bn[0][0]        \n__________________________________________________________________________________________________\nBlock_3_Branch_1_1_act (Activat (None, 56, 56, 128)  0           Block_3_Branch_1_1_bn[0][0]      \n__________________________________________________________________________________________________\nBlock_3_Branch_2_1_act (Activat (None, 56, 56, 32)   0           Block_3_Branch_2_1_bn[0][0]      \n__________________________________________________________________________________________________\nBlock_3_Branch_3_1_act (Activat (None, 56, 56, 32)   0           Block_3_Branch_3_1_bn[0][0]      \n__________________________________________________________________________________________________\nBlock_3_Concatenated (Concatena (None, 56, 56, 256)  0           Block_3_Branch_0_act[0][0]       \n                                                                 Block_3_Branch_1_1_act[0][0]     \n                                                                 Block_3_Branch_2_1_act[0][0]     \n                                                                 Block_3_Branch_3_1_act[0][0]     \n__________________________________________________________________________________________________\nblock3_pool (MaxPooling2D)      (None, 28, 28, 256)  0           Block_3_Concatenated[0][0]       \n__________________________________________________________________________________________________\nblock4_conv1_conv (Conv2D)      (None, 28, 28, 512)  1179648     block3_pool[0][0]                \n__________________________________________________________________________________________________\nblock4_conv1_bn (BatchNormaliza (None, 28, 28, 512)  1536        block4_conv1_conv[0][0]          \n__________________________________________________________________________________________________\nblock4_conv1_act (Activation)   (None, 28, 28, 512)  0           block4_conv1_bn[0][0]            \n__________________________________________________________________________________________________\nblock4_conv2_conv (Conv2D)      (None, 28, 28, 512)  2359296     block4_conv1_act[0][0]           \n__________________________________________________________________________________________________\nblock4_conv2_bn (BatchNormaliza (None, 28, 28, 512)  1536        block4_conv2_conv[0][0]          \n__________________________________________________________________________________________________\nblock4_conv2_act (Activation)   (None, 28, 28, 512)  0           block4_conv2_bn[0][0]            \n__________________________________________________________________________________________________\nblock4_conv3_conv (Conv2D)      (None, 28, 28, 512)  2359296     block4_conv2_act[0][0]           \n__________________________________________________________________________________________________\nblock4_conv3_bn (BatchNormaliza (None, 28, 28, 512)  1536        block4_conv3_conv[0][0]          \n__________________________________________________________________________________________________\nblock4_conv3_act (Activation)   (None, 28, 28, 512)  0           block4_conv3_bn[0][0]            \n__________________________________________________________________________________________________\nblock4_pool (MaxPooling2D)      (None, 14, 14, 512)  0           block4_conv3_act[0][0]           \n__________________________________________________________________________________________________\nglobal_max_pooling2d_1 (GlobalM (None, 512)          0           block4_pool[0][0]                \n==================================================================================================\nTotal params: 6,669,232\nTrainable params: 6,663,184\nNon-trainable params: 6,048\n__________________________________________________________________________________________________\n"
    }
   ],
   "source": [
    "model.summary()"
   ]
  }
 ],
 "metadata": {
  "colab": {
   "name": "Classic CNN-ResNet、InceptionV4、Inception-ResNet作業.ipynb",
   "provenance": []
  },
  "kernelspec": {
   "display_name": "Python 3",
   "language": "python",
   "name": "python3"
  },
  "language_info": {
   "codemirror_mode": {
    "name": "ipython",
    "version": 3
   },
   "file_extension": ".py",
   "mimetype": "text/x-python",
   "name": "python",
   "nbconvert_exporter": "python",
   "pygments_lexer": "ipython3",
   "version": "3.8.3-final"
  }
 },
 "nbformat": 4,
 "nbformat_minor": 1
}