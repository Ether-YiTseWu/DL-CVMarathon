{
 "cells": [
  {
   "cell_type": "markdown",
   "metadata": {},
   "source": [
    "# 範例\n",
    "\n",
    "取得 SIFT 特徵\n",
    "\n",
    "- 轉成灰階圖片\n",
    "- 需要額外安裝 OpenCV 相關套件"
   ]
  },
  {
   "cell_type": "code",
   "execution_count": 1,
   "metadata": {},
   "outputs": [],
   "source": [
    "import numpy as np\n",
    "import cv2"
   ]
  },
  {
   "cell_type": "code",
   "execution_count": 2,
   "metadata": {},
   "outputs": [],
   "source": [
    "img = cv2.imread('lena.png')\n",
    "\n",
    "# 轉灰階圖片\n",
    "img_gray = cv2.cvtColor(img, cv2.COLOR_BGR2GRAY)\n",
    "\n",
    "# 建立 SIFT 物件\n",
    "SIFT_detector = cv2.xfeatures2d.SIFT_create()\n",
    "\n",
    "# 取得 SIFT 關鍵點位置\n",
    "keypoints = SIFT_detector.detect(img_gray, None)\n",
    "\n",
    "#　畫圖 + 顯示圖片\n",
    "img_show = cv2.drawKeypoints(img_gray, keypoints, img)\n",
    "while True:\n",
    "    cv2.imshow('SIFT (Gray)', img_show)\n",
    "    k = cv2.waitKey(0)\n",
    "    if k == 27:\n",
    "        cv2.destroyAllWindows()\n",
    "        break"
   ]
  },
  {
   "cell_type": "markdown",
   "metadata": {},
   "source": [
    "# 測試\n",
    "取得 SIFT 特徵\n",
    "\n",
    "- 轉成綠色圖片\n",
    "- 需要額外安裝 OpenCV 相關套件"
   ]
  },
  {
   "cell_type": "code",
   "execution_count": 3,
   "metadata": {},
   "outputs": [],
   "source": [
    "img_green = cv2.imread('lena.png')\n",
    "\n",
    "# 轉綠色圖片\n",
    "img_green[:, :, 0] = 0\n",
    "img_green[:, :, 2] = 0\n",
    "\n",
    "# 建立 SIFT 物件\n",
    "SIFT_detector = cv2.xfeatures2d.SIFT_create()\n",
    "\n",
    "# 取得 SIFT 關鍵點位置\n",
    "keypoints = SIFT_detector.detect(img_green, None)\n",
    "\n",
    "#　畫圖 + 顯示圖片\n",
    "img_show = cv2.drawKeypoints(img_green, keypoints, img)\n",
    "while True:\n",
    "    cv2.imshow('SIFT (Green)', img_show)\n",
    "    k = cv2.waitKey(0)\n",
    "    if k == 27:\n",
    "        cv2.destroyAllWindows()\n",
    "        break"
   ]
  },
  {
   "cell_type": "markdown",
   "metadata": {},
   "source": [
    "# 思考題\n",
    "#### 如果我們把 RGB channel 個別拆開計算 SIFT 是否會得到跟灰階圖的特徵相同？\n",
    "- 不相同。灰階圖片的像素值與 RGB Channel 的像素值不一致。因此，找出的特徵點也就會不一樣\n",
    "\n",
    "#### 回顧一下 SIFT 的演算法是否會考慮到顏色的變化？\n",
    "- 不考慮。根據 Lowe 的論文，SIFT 演算法只用在單色的圖片上\n",
    "- The features described in this paper use only a monochrome intensity image, so further distinctiveness could be derived from including illumination-invariant color descriptors (Funt and Finlayson, 1995; Brown and Lowe, 2002)"
   ]
  }
 ],
 "metadata": {
  "kernelspec": {
   "display_name": "Python 3",
   "language": "python",
   "name": "python3"
  },
  "language_info": {
   "codemirror_mode": {
    "name": "ipython",
    "version": 3
   },
   "file_extension": ".py",
   "mimetype": "text/x-python",
   "name": "python",
   "nbconvert_exporter": "python",
   "pygments_lexer": "ipython3",
   "version": "3.7.4"
  }
 },
 "nbformat": 4,
 "nbformat_minor": 2
}
