{
 "cells": [
  {
   "cell_type": "markdown",
   "metadata": {},
   "source": [
    "## 『本次練習內容』\n",
    "#### 使用Xception backbone做 Trnasfer Learning\n"
   ]
  },
  {
   "cell_type": "markdown",
   "metadata": {},
   "source": [
    "## 『本次練習目的』\n",
    "  #### 了解如何使用Transfer Learning\n",
    "  #### 了解Transfer Learning的優點，可以觀察模型收斂速度"
   ]
  },
  {
   "cell_type": "markdown",
   "metadata": {},
   "source": [
    "##### 可以自行嘗試多種架構"
   ]
  },
  {
   "cell_type": "code",
   "execution_count": 1,
   "metadata": {
    "tags": []
   },
   "outputs": [
    {
     "output_type": "stream",
     "name": "stderr",
     "text": "Using TensorFlow backend.\n"
    }
   ],
   "source": [
    "from keras.models import Sequential\n",
    "from keras.layers import Convolution2D\n",
    "from keras.layers import MaxPooling2D\n",
    "from keras.layers import Flatten\n",
    "from keras.layers import Dense\n",
    "from keras.layers import Dropout\n",
    "from keras.preprocessing import image\n",
    "from keras.models import Model\n",
    "from keras.layers import Dense, GlobalAveragePooling2D\n",
    "from keras import backend as K\n",
    "import keras\n",
    "from keras.layers import Input\n",
    " \n",
    "from keras.datasets import cifar10\n",
    "import numpy as np\n",
    "import tensorflow as tf\n",
    "from sklearn.preprocessing import OneHotEncoder"
   ]
  },
  {
   "cell_type": "code",
   "execution_count": 2,
   "metadata": {
    "tags": [
     "outputPrepend"
    ]
   },
   "outputs": [
    {
     "output_type": "stream",
     "name": "stdout",
     "text": "            \n__________________________________________________________________________________________________\nactivation_22 (Activation)      (None, 4, 4, 512)    0           add_19[0][0]                     \n__________________________________________________________________________________________________\nres4a_branch2a (Conv2D)         (None, 2, 2, 256)    131328      activation_22[0][0]              \n__________________________________________________________________________________________________\nbn4a_branch2a (BatchNormalizati (None, 2, 2, 256)    1024        res4a_branch2a[0][0]             \n__________________________________________________________________________________________________\nactivation_23 (Activation)      (None, 2, 2, 256)    0           bn4a_branch2a[0][0]              \n__________________________________________________________________________________________________\nres4a_branch2b (Conv2D)         (None, 2, 2, 256)    590080      activation_23[0][0]              \n__________________________________________________________________________________________________\nbn4a_branch2b (BatchNormalizati (None, 2, 2, 256)    1024        res4a_branch2b[0][0]             \n__________________________________________________________________________________________________\nactivation_24 (Activation)      (None, 2, 2, 256)    0           bn4a_branch2b[0][0]              \n__________________________________________________________________________________________________\nres4a_branch2c (Conv2D)         (None, 2, 2, 1024)   263168      activation_24[0][0]              \n__________________________________________________________________________________________________\nres4a_branch1 (Conv2D)          (None, 2, 2, 1024)   525312      activation_22[0][0]              \n__________________________________________________________________________________________________\nbn4a_branch2c (BatchNormalizati (None, 2, 2, 1024)   4096        res4a_branch2c[0][0]             \n__________________________________________________________________________________________________\nbn4a_branch1 (BatchNormalizatio (None, 2, 2, 1024)   4096        res4a_branch1[0][0]              \n__________________________________________________________________________________________________\nadd_20 (Add)                    (None, 2, 2, 1024)   0           bn4a_branch2c[0][0]              \n                                                                 bn4a_branch1[0][0]               \n__________________________________________________________________________________________________\nactivation_25 (Activation)      (None, 2, 2, 1024)   0           add_20[0][0]                     \n__________________________________________________________________________________________________\nres4b_branch2a (Conv2D)         (None, 2, 2, 256)    262400      activation_25[0][0]              \n__________________________________________________________________________________________________\nbn4b_branch2a (BatchNormalizati (None, 2, 2, 256)    1024        res4b_branch2a[0][0]             \n__________________________________________________________________________________________________\nactivation_26 (Activation)      (None, 2, 2, 256)    0           bn4b_branch2a[0][0]              \n__________________________________________________________________________________________________\nres4b_branch2b (Conv2D)         (None, 2, 2, 256)    590080      activation_26[0][0]              \n__________________________________________________________________________________________________\nbn4b_branch2b (BatchNormalizati (None, 2, 2, 256)    1024        res4b_branch2b[0][0]             \n__________________________________________________________________________________________________\nactivation_27 (Activation)      (None, 2, 2, 256)    0           bn4b_branch2b[0][0]              \n__________________________________________________________________________________________________\nres4b_branch2c (Conv2D)         (None, 2, 2, 1024)   263168      activation_27[0][0]              \n__________________________________________________________________________________________________\nbn4b_branch2c (BatchNormalizati (None, 2, 2, 1024)   4096        res4b_branch2c[0][0]             \n__________________________________________________________________________________________________\nadd_21 (Add)                    (None, 2, 2, 1024)   0           bn4b_branch2c[0][0]              \n                                                                 activation_25[0][0]              \n__________________________________________________________________________________________________\nactivation_28 (Activation)      (None, 2, 2, 1024)   0           add_21[0][0]                     \n__________________________________________________________________________________________________\nres4c_branch2a (Conv2D)         (None, 2, 2, 256)    262400      activation_28[0][0]              \n__________________________________________________________________________________________________\nbn4c_branch2a (BatchNormalizati (None, 2, 2, 256)    1024        res4c_branch2a[0][0]             \n__________________________________________________________________________________________________\nactivation_29 (Activation)      (None, 2, 2, 256)    0           bn4c_branch2a[0][0]              \n__________________________________________________________________________________________________\nres4c_branch2b (Conv2D)         (None, 2, 2, 256)    590080      activation_29[0][0]              \n__________________________________________________________________________________________________\nbn4c_branch2b (BatchNormalizati (None, 2, 2, 256)    1024        res4c_branch2b[0][0]             \n__________________________________________________________________________________________________\nactivation_30 (Activation)      (None, 2, 2, 256)    0           bn4c_branch2b[0][0]              \n__________________________________________________________________________________________________\nres4c_branch2c (Conv2D)         (None, 2, 2, 1024)   263168      activation_30[0][0]              \n__________________________________________________________________________________________________\nbn4c_branch2c (BatchNormalizati (None, 2, 2, 1024)   4096        res4c_branch2c[0][0]             \n__________________________________________________________________________________________________\nadd_22 (Add)                    (None, 2, 2, 1024)   0           bn4c_branch2c[0][0]              \n                                                                 activation_28[0][0]              \n__________________________________________________________________________________________________\nactivation_31 (Activation)      (None, 2, 2, 1024)   0           add_22[0][0]                     \n__________________________________________________________________________________________________\nres4d_branch2a (Conv2D)         (None, 2, 2, 256)    262400      activation_31[0][0]              \n__________________________________________________________________________________________________\nbn4d_branch2a (BatchNormalizati (None, 2, 2, 256)    1024        res4d_branch2a[0][0]             \n__________________________________________________________________________________________________\nactivation_32 (Activation)      (None, 2, 2, 256)    0           bn4d_branch2a[0][0]              \n__________________________________________________________________________________________________\nres4d_branch2b (Conv2D)         (None, 2, 2, 256)    590080      activation_32[0][0]              \n__________________________________________________________________________________________________\nbn4d_branch2b (BatchNormalizati (None, 2, 2, 256)    1024        res4d_branch2b[0][0]             \n__________________________________________________________________________________________________\nactivation_33 (Activation)      (None, 2, 2, 256)    0           bn4d_branch2b[0][0]              \n__________________________________________________________________________________________________\nres4d_branch2c (Conv2D)         (None, 2, 2, 1024)   263168      activation_33[0][0]              \n__________________________________________________________________________________________________\nbn4d_branch2c (BatchNormalizati (None, 2, 2, 1024)   4096        res4d_branch2c[0][0]             \n__________________________________________________________________________________________________\nadd_23 (Add)                    (None, 2, 2, 1024)   0           bn4d_branch2c[0][0]              \n                                                                 activation_31[0][0]              \n__________________________________________________________________________________________________\nactivation_34 (Activation)      (None, 2, 2, 1024)   0           add_23[0][0]                     \n__________________________________________________________________________________________________\nres4e_branch2a (Conv2D)         (None, 2, 2, 256)    262400      activation_34[0][0]              \n__________________________________________________________________________________________________\nbn4e_branch2a (BatchNormalizati (None, 2, 2, 256)    1024        res4e_branch2a[0][0]             \n__________________________________________________________________________________________________\nactivation_35 (Activation)      (None, 2, 2, 256)    0           bn4e_branch2a[0][0]              \n__________________________________________________________________________________________________\nres4e_branch2b (Conv2D)         (None, 2, 2, 256)    590080      activation_35[0][0]              \n__________________________________________________________________________________________________\nbn4e_branch2b (BatchNormalizati (None, 2, 2, 256)    1024        res4e_branch2b[0][0]             \n__________________________________________________________________________________________________\nactivation_36 (Activation)      (None, 2, 2, 256)    0           bn4e_branch2b[0][0]              \n__________________________________________________________________________________________________\nres4e_branch2c (Conv2D)         (None, 2, 2, 1024)   263168      activation_36[0][0]              \n__________________________________________________________________________________________________\nbn4e_branch2c (BatchNormalizati (None, 2, 2, 1024)   4096        res4e_branch2c[0][0]             \n__________________________________________________________________________________________________\nadd_24 (Add)                    (None, 2, 2, 1024)   0           bn4e_branch2c[0][0]              \n                                                                 activation_34[0][0]              \n__________________________________________________________________________________________________\nactivation_37 (Activation)      (None, 2, 2, 1024)   0           add_24[0][0]                     \n__________________________________________________________________________________________________\nres4f_branch2a (Conv2D)         (None, 2, 2, 256)    262400      activation_37[0][0]              \n__________________________________________________________________________________________________\nbn4f_branch2a (BatchNormalizati (None, 2, 2, 256)    1024        res4f_branch2a[0][0]             \n__________________________________________________________________________________________________\nactivation_38 (Activation)      (None, 2, 2, 256)    0           bn4f_branch2a[0][0]              \n__________________________________________________________________________________________________\nres4f_branch2b (Conv2D)         (None, 2, 2, 256)    590080      activation_38[0][0]              \n__________________________________________________________________________________________________\nbn4f_branch2b (BatchNormalizati (None, 2, 2, 256)    1024        res4f_branch2b[0][0]             \n__________________________________________________________________________________________________\nactivation_39 (Activation)      (None, 2, 2, 256)    0           bn4f_branch2b[0][0]              \n__________________________________________________________________________________________________\nres4f_branch2c (Conv2D)         (None, 2, 2, 1024)   263168      activation_39[0][0]              \n__________________________________________________________________________________________________\nbn4f_branch2c (BatchNormalizati (None, 2, 2, 1024)   4096        res4f_branch2c[0][0]             \n__________________________________________________________________________________________________\nadd_25 (Add)                    (None, 2, 2, 1024)   0           bn4f_branch2c[0][0]              \n                                                                 activation_37[0][0]              \n__________________________________________________________________________________________________\nactivation_40 (Activation)      (None, 2, 2, 1024)   0           add_25[0][0]                     \n__________________________________________________________________________________________________\nres5a_branch2a (Conv2D)         (None, 1, 1, 512)    524800      activation_40[0][0]              \n__________________________________________________________________________________________________\nbn5a_branch2a (BatchNormalizati (None, 1, 1, 512)    2048        res5a_branch2a[0][0]             \n__________________________________________________________________________________________________\nactivation_41 (Activation)      (None, 1, 1, 512)    0           bn5a_branch2a[0][0]              \n__________________________________________________________________________________________________\nres5a_branch2b (Conv2D)         (None, 1, 1, 512)    2359808     activation_41[0][0]              \n__________________________________________________________________________________________________\nbn5a_branch2b (BatchNormalizati (None, 1, 1, 512)    2048        res5a_branch2b[0][0]             \n__________________________________________________________________________________________________\nactivation_42 (Activation)      (None, 1, 1, 512)    0           bn5a_branch2b[0][0]              \n__________________________________________________________________________________________________\nres5a_branch2c (Conv2D)         (None, 1, 1, 2048)   1050624     activation_42[0][0]              \n__________________________________________________________________________________________________\nres5a_branch1 (Conv2D)          (None, 1, 1, 2048)   2099200     activation_40[0][0]              \n__________________________________________________________________________________________________\nbn5a_branch2c (BatchNormalizati (None, 1, 1, 2048)   8192        res5a_branch2c[0][0]             \n__________________________________________________________________________________________________\nbn5a_branch1 (BatchNormalizatio (None, 1, 1, 2048)   8192        res5a_branch1[0][0]              \n__________________________________________________________________________________________________\nadd_26 (Add)                    (None, 1, 1, 2048)   0           bn5a_branch2c[0][0]              \n                                                                 bn5a_branch1[0][0]               \n__________________________________________________________________________________________________\nactivation_43 (Activation)      (None, 1, 1, 2048)   0           add_26[0][0]                     \n__________________________________________________________________________________________________\nres5b_branch2a (Conv2D)         (None, 1, 1, 512)    1049088     activation_43[0][0]              \n__________________________________________________________________________________________________\nbn5b_branch2a (BatchNormalizati (None, 1, 1, 512)    2048        res5b_branch2a[0][0]             \n__________________________________________________________________________________________________\nactivation_44 (Activation)      (None, 1, 1, 512)    0           bn5b_branch2a[0][0]              \n__________________________________________________________________________________________________\nres5b_branch2b (Conv2D)         (None, 1, 1, 512)    2359808     activation_44[0][0]              \n__________________________________________________________________________________________________\nbn5b_branch2b (BatchNormalizati (None, 1, 1, 512)    2048        res5b_branch2b[0][0]             \n__________________________________________________________________________________________________\nactivation_45 (Activation)      (None, 1, 1, 512)    0           bn5b_branch2b[0][0]              \n__________________________________________________________________________________________________\nres5b_branch2c (Conv2D)         (None, 1, 1, 2048)   1050624     activation_45[0][0]              \n__________________________________________________________________________________________________\nbn5b_branch2c (BatchNormalizati (None, 1, 1, 2048)   8192        res5b_branch2c[0][0]             \n__________________________________________________________________________________________________\nadd_27 (Add)                    (None, 1, 1, 2048)   0           bn5b_branch2c[0][0]              \n                                                                 activation_43[0][0]              \n__________________________________________________________________________________________________\nactivation_46 (Activation)      (None, 1, 1, 2048)   0           add_27[0][0]                     \n__________________________________________________________________________________________________\nres5c_branch2a (Conv2D)         (None, 1, 1, 512)    1049088     activation_46[0][0]              \n__________________________________________________________________________________________________\nbn5c_branch2a (BatchNormalizati (None, 1, 1, 512)    2048        res5c_branch2a[0][0]             \n__________________________________________________________________________________________________\nactivation_47 (Activation)      (None, 1, 1, 512)    0           bn5c_branch2a[0][0]              \n__________________________________________________________________________________________________\nres5c_branch2b (Conv2D)         (None, 1, 1, 512)    2359808     activation_47[0][0]              \n__________________________________________________________________________________________________\nbn5c_branch2b (BatchNormalizati (None, 1, 1, 512)    2048        res5c_branch2b[0][0]             \n__________________________________________________________________________________________________\nactivation_48 (Activation)      (None, 1, 1, 512)    0           bn5c_branch2b[0][0]              \n__________________________________________________________________________________________________\nres5c_branch2c (Conv2D)         (None, 1, 1, 2048)   1050624     activation_48[0][0]              \n__________________________________________________________________________________________________\nbn5c_branch2c (BatchNormalizati (None, 1, 1, 2048)   8192        res5c_branch2c[0][0]             \n__________________________________________________________________________________________________\nadd_28 (Add)                    (None, 1, 1, 2048)   0           bn5c_branch2c[0][0]              \n                                                                 activation_46[0][0]              \n__________________________________________________________________________________________________\nactivation_49 (Activation)      (None, 1, 1, 2048)   0           add_28[0][0]                     \n==================================================================================================\nTotal params: 23,587,712\nTrainable params: 23,534,592\nNon-trainable params: 53,120\n__________________________________________________________________________________________________\nNone\n"
    }
   ],
   "source": [
    "input_tensor = Input(shape=(32, 32, 3))\n",
    "#include top 決定要不要加入 fully Connected Layer\n",
    "\n",
    "'''Xception 架構'''\n",
    "model_Xception = keras.applications.xception.Xception(include_top = True, weights = 'imagenet', input_tensor = None, input_shape = None, pooling = None, classes=1000)\n",
    "print(model_Xception.summary())\n",
    "\n",
    "'''Resnet 50 架構'''\n",
    "model_ResNet50 = keras.applications.ResNet50(include_top = False, weights = 'imagenet', input_tensor = input_tensor, input_shape = (32, 32, 3), classes=10)\n",
    "print(model_ResNet50.summary())\n"
   ]
  },
  {
   "cell_type": "markdown",
   "metadata": {},
   "source": [
    "## 添加層數"
   ]
  },
  {
   "cell_type": "code",
   "execution_count": 3,
   "metadata": {
    "tags": []
   },
   "outputs": [
    {
     "output_type": "stream",
     "name": "stdout",
     "text": "Model深度： 179\n"
    }
   ],
   "source": [
    "x = model_ResNet50.output\n",
    "\n",
    "'''可以參考Cifar10實作章節'''\n",
    "x = GlobalAveragePooling2D()(x)\n",
    "x = Dense(output_dim = 30, activation='relu')(x)\n",
    "x = Dense(output_dim = 20, activation='relu')(x)\n",
    "predictions = Dense(output_dim=10,activation='softmax')(x)\n",
    "model_ResNet50 = Model(inputs = model_ResNet50.input, outputs=predictions)\n",
    "print('Model深度：', len(model_ResNet50.layers))\n"
   ]
  },
  {
   "cell_type": "markdown",
   "metadata": {},
   "source": [
    "## 鎖定特定幾層不要更新權重"
   ]
  },
  {
   "cell_type": "code",
   "execution_count": 4,
   "metadata": {},
   "outputs": [],
   "source": [
    "for layer in model_ResNet50.layers[:100]:\n",
    "    layer.trainable = False\n",
    "for layer in model_ResNet50.layers[100:]:\n",
    "    layer.trainable = True"
   ]
  },
  {
   "cell_type": "markdown",
   "metadata": {},
   "source": [
    "## 準備 Cifar 10 資料"
   ]
  },
  {
   "cell_type": "code",
   "execution_count": 5,
   "metadata": {
    "tags": []
   },
   "outputs": [
    {
     "output_type": "stream",
     "name": "stdout",
     "text": "(50000, 32, 32, 3)\n"
    }
   ],
   "source": [
    "(x_train, y_train), (x_test, y_test) = cifar10.load_data()\n",
    "\n",
    "print(x_train.shape) #(50000, 32, 32, 3)\n",
    "\n",
    "## Normalize Data\n",
    "def normalize(X_train,X_test):\n",
    "        mean = np.mean(X_train,axis=(0,1,2,3))\n",
    "        std = np.std(X_train, axis=(0, 1, 2, 3))\n",
    "        X_train = (X_train-mean)/(std+1e-7)\n",
    "        X_test = (X_test-mean)/(std+1e-7)\n",
    "        return X_train, X_test\n",
    "    \n",
    "    \n",
    "## Normalize Training and Testset    \n",
    "x_train, x_test = normalize(x_train, x_test) \n",
    "\n",
    "## OneHot Label 由(None, 1)-(None, 10)\n",
    "## ex. label=2,變成[0,0,1,0,0,0,0,0,0,0]\n",
    "one_hot=OneHotEncoder()\n",
    "y_train=one_hot.fit_transform(y_train).toarray()\n",
    "y_test=one_hot.transform(y_test).toarray()"
   ]
  },
  {
   "cell_type": "markdown",
   "metadata": {},
   "source": [
    "## Training"
   ]
  },
  {
   "cell_type": "code",
   "execution_count": 6,
   "metadata": {
    "tags": []
   },
   "outputs": [
    {
     "output_type": "stream",
     "name": "stdout",
     "text": "Epoch 1/10\n50000/50000 [==============================] - 164s 3ms/step - loss: 1.2445 - accuracy: 0.5839\nEpoch 2/10\n50000/50000 [==============================] - 153s 3ms/step - loss: 0.9536 - accuracy: 0.6758\nEpoch 3/10\n50000/50000 [==============================] - 154s 3ms/step - loss: 0.7975 - accuracy: 0.7296\nEpoch 4/10\n50000/50000 [==============================] - 153s 3ms/step - loss: 0.7353 - accuracy: 0.7481\nEpoch 5/10\n50000/50000 [==============================] - 153s 3ms/step - loss: 0.7186 - accuracy: 0.7514\nEpoch 6/10\n50000/50000 [==============================] - 153s 3ms/step - loss: 0.6621 - accuracy: 0.7719\nEpoch 7/10\n50000/50000 [==============================] - 154s 3ms/step - loss: 0.6287 - accuracy: 0.7821\nEpoch 8/10\n50000/50000 [==============================] - 153s 3ms/step - loss: 0.5507 - accuracy: 0.8109\nEpoch 9/10\n50000/50000 [==============================] - 154s 3ms/step - loss: 0.4768 - accuracy: 0.8336\nEpoch 10/10\n50000/50000 [==============================] - 155s 3ms/step - loss: 0.4411 - accuracy: 0.8491\n"
    },
    {
     "output_type": "execute_result",
     "data": {
      "text/plain": "<keras.callbacks.callbacks.History at 0x26a18055e50>"
     },
     "metadata": {},
     "execution_count": 6
    }
   ],
   "source": [
    "# compile the model (should be done *after* setting layers to non-trainable)\n",
    "model_ResNet50.compile(optimizer = 'adam', loss = 'categorical_crossentropy', metrics = ['accuracy'])\n",
    "model_ResNet50.fit(x_train,y_train, batch_size = 32, epochs = 10)"
   ]
  }
 ],
 "metadata": {
  "kernelspec": {
   "display_name": "Python 3",
   "language": "python",
   "name": "python3"
  },
  "language_info": {
   "codemirror_mode": {
    "name": "ipython",
    "version": 3
   },
   "file_extension": ".py",
   "mimetype": "text/x-python",
   "name": "python",
   "nbconvert_exporter": "python",
   "pygments_lexer": "ipython3",
   "version": "3.8.3-final"
  }
 },
 "nbformat": 4,
 "nbformat_minor": 2
}