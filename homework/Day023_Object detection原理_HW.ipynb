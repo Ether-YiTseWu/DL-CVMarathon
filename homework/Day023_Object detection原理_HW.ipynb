{
 "cells": [
  {
   "cell_type": "markdown",
   "metadata": {},
   "source": [
    "# 請列舉出 Two Stage 與 One Stage 的經典演算法各三個，並比較其運算速度與精度 (MAP)   \n",
    "## Two Stage\n",
    "two-stage將問題分為兩階段，先產生候選區域(region proposals)，之後對候選區域進行分類(可能還需位置精修)。   \n",
    "他們識別錯誤率低，漏識別率也較低，但速度較慢，不能滿足實時檢測場景。Two Stage的經典模型有\n",
    "- R-CNN\n",
    "- Fast R-CNN\n",
    "- Faster R-CNN     \n\n",
    "## One Stage\n",
    "one-stage不需要region proposal，能直接產生物體的類別機率、位置座標。   \n",
    "經過單次檢測便能得到最終檢測結果，有著更快的檢測速度。One Stage的經典模型有\n",
    "- SSD\n",
    "- YOLO\n",
    "- RetinaNet"
   ]
  }
 ],
 "metadata": {
  "accelerator": "GPU",
  "colab": {
   "collapsed_sections": [],
   "name": "Captcha.ipynb",
   "provenance": []
  },
  "kernelspec": {
   "display_name": "Python 3",
   "language": "python",
   "name": "python3"
  },
  "language_info": {
   "codemirror_mode": {
    "name": "ipython",
    "version": 3
   },
   "file_extension": ".py",
   "mimetype": "text/x-python",
   "name": "python",
   "nbconvert_exporter": "python",
   "pygments_lexer": "ipython3",
   "version": "3.8.3-final"
  }
 },
 "nbformat": 4,
 "nbformat_minor": 1
}
